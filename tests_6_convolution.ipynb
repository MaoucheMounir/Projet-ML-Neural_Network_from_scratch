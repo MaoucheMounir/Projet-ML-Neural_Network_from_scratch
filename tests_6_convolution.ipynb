{
  "cells": [
    {
      "cell_type": "code",
      "execution_count": 4,
      "metadata": {
        "collapsed": true,
        "id": "TLV1vk1tc0y2"
      },
      "outputs": [],
      "source": [
        "import numpy as np\n",
        "import matplotlib.pyplot as plt\n",
        "import pickle\n",
        "\n",
        "\n",
        "from Lineaire.Linear import *\n",
        "from Loss.BCELoss import BCELoss\n",
        "from Activation.Tanh import Tanh\n",
        "from Activation.Sigmoide import Sigmoide\n",
        "from Activation.ReLu import ReLU\n",
        "from Encapsulation.AutoEncodeur import AutoEncodeur\n",
        "from Encapsulation.Sequentiel import Sequentiel\n",
        "from Encapsulation.Optim import SGD\n",
        "from Activation.SoftMax import  SoftMax\n",
        "from Loss.CELogSoftMax import CELogSoftMax\n",
        "from Loss.CELoss import CELoss\n",
        "\n",
        "from convolution import *\n",
        "\n",
        "from outils import tools\n",
        "from Encapsulation import fonctions as fn\n",
        "\n",
        "from icecream import ic\n"
      ]
    },
    {
      "cell_type": "code",
      "execution_count": 8,
      "metadata": {
        "id": "EsFQjD8ec0y8"
      },
      "outputs": [],
      "source": [
        "def onehot(y):\n",
        "    onehot = np.zeros((y.size,y.max()+1))\n",
        "    onehot[np.arange(y.size),y]=1\n",
        "    return onehot\n",
        "\n",
        "uspsdatatrain = \"C:/_TME\\Projet-ML/dataset/USPS_train.txt\"\n",
        "uspsdatatest = \"C:/_TME\\Projet-ML/dataset/USPS_test.txt\" \n",
        "\n",
        "nb_train = 1100\n",
        "nb_test = 500\n",
        "\n",
        "alltrainx, alltrainy = tools.load_usps(uspsdatatrain)\n",
        "alltestx, alltesty = tools.load_usps(uspsdatatest)\n",
        "alltrainx, alltrainy = alltrainx[:nb_train],alltrainy[:nb_train]\n",
        "alltestx, alltesty = alltestx[:nb_test],alltesty[:nb_test]\n",
        "# taille couche\n",
        "input = len(alltrainx[0])\n",
        "out = len(np.unique(alltesty))\n",
        "alltrainy = onehot(alltrainy)\n",
        "alltesty= onehot(alltesty)\n",
        "alltrainx = alltrainx.reshape(alltrainx.shape[0], alltrainx.shape[1], 1)\n",
        "alltestx = alltestx.reshape(alltestx.shape[0], alltestx.shape[1], 1)\n",
        "\n"
      ]
    },
    {
      "cell_type": "code",
      "execution_count": 9,
      "metadata": {
        "id": "DPzXF-BCc0y9"
      },
      "outputs": [],
      "source": [
        "iteration = 100\n",
        "gradient_step = 1e-3\n",
        "\n",
        "\n",
        "net = Sequentiel(*[Conv1D(3, 1, 32, stride=1),\n",
        "                      MaxPool1D(2, 2),\n",
        "                      Flatten(),\n",
        "                      Linear(4064, 100, init_type=1),\n",
        "                      ReLU(),\n",
        "                      Linear(100, 10,init_type=1),\n",
        "                      SoftMax()\n",
        "                        ]) \n",
        "\n",
        "loss_ce = CELoss()\n"
      ]
    },
    {
      "cell_type": "code",
      "execution_count": 10,
      "metadata": {
        "colab": {
          "base_uri": "https://localhost:8080/"
        },
        "id": "3eJTaTa_fmZ5",
        "outputId": "548fa453-3440-426e-d9b8-e37d1e64d56b"
      },
      "outputs": [
        {
          "name": "stderr",
          "output_type": "stream",
          "text": [
            "ic| X.shape: (1100, 256, 1)\n",
            "ic| Y.shape: (1100, 10)\n",
            "100%|██████████| 100/100 [01:13<00:00,  1.36it/s]\n"
          ]
        }
      ],
      "source": [
        "net, couts, opt = SGD(net, alltrainx, alltrainy, nb_batch=1, loss=loss_ce, nb_epochs=iteration, shuffle=True)\n"
      ]
    },
    {
      "cell_type": "code",
      "execution_count": 11,
      "metadata": {
        "colab": {
          "base_uri": "https://localhost:8080/",
          "height": 508
        },
        "id": "cMpdPsd1c0y_",
        "outputId": "2d0efb2b-f7a4-4fb7-f02e-165459aa1d4b"
      },
      "outputs": [
        {
          "name": "stdout",
          "output_type": "stream",
          "text": [
            "Le score d'accuracy en train =  0.5727272727272728\n",
            "Le score d'accuracy en train =  0.574\n"
          ]
        },
        {
          "data": {
            "image/png": "[encoded data removed]",
            "text/plain": [
              "<Figure size 640x480 with 1 Axes>"
            ]
          },
          "metadata": {},
          "output_type": "display_data"
        }
      ],
      "source": [
        "plt.plot(np.arange(len(couts)),couts,color='red',label=\"la function de cout\")\n",
        "plt.xlabel(\"iter\")\n",
        "plt.title(\"variation de la fonction de cout\")\n",
        "plt.savefig(\"loss_convolution_100it_1,1ktr_0.5ktst.png\")\n",
        "plt.show()\n",
        "\n",
        "\n",
        "# with open('net_trained.pkl', 'wb') as f:\n",
        "#     pickle.dump(net, f)\n",
        "\n",
        "\n",
        "# with open('net_trained.pkl', 'rb') as f:\n",
        "#     net=pickle.load(f)\n",
        "\n",
        "\n",
        "_, alltrainy = tools.load_usps(uspsdatatrain)\n",
        "_, alltesty = tools.load_usps(uspsdatatest)\n",
        "\n",
        "alltrainy = alltrainy[:nb_train]\n",
        "alltesty = alltesty[:nb_test]\n",
        "\n",
        "predict = net.forward(alltrainx)\n",
        "# print((np.where(predict == alltrainy, 1, 0)).mean() )\n",
        "score_train = fn.score(alltrainy,predict)\n",
        "print(\"Le score d'accuracy en train = \", score_train)\n",
        "\n",
        "predict = net.forward(alltestx)\n",
        "score_test = fn.score(alltesty,predict)\n",
        "print(\"Le score d'accuracy en train = \", score_test)\n",
        "\n"
      ]
    }
  ],
  "metadata": {
    "accelerator": "GPU",
    "colab": {
      "gpuType": "T4",
      "provenance": []
    },
    "kernelspec": {
      "display_name": "Python 3",
      "name": "python3"
    },
    "language_info": {
      "name": "python"
    }
  },
  "nbformat": 4,
  "nbformat_minor": 0
}
