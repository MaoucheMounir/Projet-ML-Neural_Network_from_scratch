{
 "cells": [
  {
   "cell_type": "code",
   "execution_count": 2,
   "metadata": {},
   "outputs": [],
   "source": [
    "import numpy as np\n",
    "\n",
    "from sklearn import datasets, linear_model\n",
    "from sklearn.preprocessing import StandardScaler\n",
    "from sklearn.metrics import accuracy_score, r2_score, mean_squared_error\n",
    "import matplotlib.pyplot as plt\n",
    "\n",
    "from Lineaire.Linear import *\n",
    "from Loss.MSELoss import *\n",
    "from Activation.Tanh import Tanh\n",
    "from Activation.Sigmoide import Sigmoide\n",
    "from Encapsulation.Sequentiel import Sequentiel\n",
    "from Encapsulation.Optim import Optim, SGD\n",
    "\n",
    "from icecream import ic"
   ]
  },
  {
   "cell_type": "code",
   "execution_count": 3,
   "metadata": {},
   "outputs": [],
   "source": [
    "# Load the diabetes dataset\n",
    "diabetes_X, diabetes_y = datasets.load_diabetes(return_X_y=True)\n",
    "# Données de forme (442 exemples, 10 dimensions)\n",
    "# On récupère une seule dimensions (la N°3), newaxis est fait pour qu'on ait pas un vecteur mais une matrice 442*1\n",
    "diabetes_X = diabetes_X[:, np.newaxis, 2]\n",
    "\n",
    "# Split the data into training/testing sets\n",
    "diabetes_X_train = diabetes_X[:-20]\n",
    "diabetes_X_test = diabetes_X[-20:]\n",
    "\n",
    "# Split the targets into training/testing sets\n",
    "diabetes_y_train = np.reshape(diabetes_y[:-20], (-1,1))\n",
    "diabetes_y_test = np.reshape(diabetes_y[-20:], (-1,1))\n",
    "\n",
    "dim_input = diabetes_X_train.shape[1] #==1, pour faire de la régression 2D\n",
    "dim_output = 1  #len(diabetes_y_train.shape) == 1"
   ]
  },
  {
   "cell_type": "code",
   "execution_count": 4,
   "metadata": {},
   "outputs": [
    {
     "name": "stdout",
     "output_type": "stream",
     "text": [
      "Coefficients: \n",
      " [[938.23786125]]\n",
      "Mean squared error: 2548.07\n",
      "Coefficient of determination: 0.47\n"
     ]
    },
    {
     "data": {
      "image/png": "[encoded data removed]",
      "text/plain": [
       "<Figure size 640x480 with 1 Axes>"
      ]
     },
     "metadata": {},
     "output_type": "display_data"
    }
   ],
   "source": [
    "# Create linear regression object\n",
    "regr = linear_model.LinearRegression()\n",
    "\n",
    "# Train the model using the training sets\n",
    "regr.fit(diabetes_X_train, diabetes_y_train)\n",
    "\n",
    "# Make predictions using the testing set\n",
    "diabetes_y_pred = regr.predict(diabetes_X_test)\n",
    "\n",
    "# The coefficients\n",
    "print(\"Coefficients: \\n\", regr.coef_)\n",
    "# The mean squared error\n",
    "print(\"Mean squared error: %.2f\" % mean_squared_error(diabetes_y_test, diabetes_y_pred))\n",
    "# The coefficient of determination: 1 is perfect prediction\n",
    "print(\"Coefficient of determination: %.2f\" % r2_score(diabetes_y_test, diabetes_y_pred))\n",
    "\n",
    "# Plot outputs\n",
    "plt.scatter(diabetes_X_test, diabetes_y_test, color=\"black\")\n",
    "plt.plot(diabetes_X_test, diabetes_y_pred, color=\"blue\", linewidth=3)\n",
    "\n",
    "plt.xticks()\n",
    "plt.yticks()\n",
    "\n",
    "plt.show() "
   ]
  },
  {
   "cell_type": "markdown",
   "metadata": {},
   "source": [
    "## Tests couche linéaire"
   ]
  },
  {
   "cell_type": "code",
   "execution_count": null,
   "metadata": {},
   "outputs": [],
   "source": [
    "# Load the diabetes dataset\n",
    "diabetes_X, diabetes_y = datasets.load_diabetes(return_X_y=True)\n",
    "# Données de forme (442 exemples, 10 dimensions)\n",
    "# On récupère une seule dimensions (la N°3), newaxis est fait pour qu'on ait pas un vecteur mais une matrice 442*1\n",
    "diabetes_X = diabetes_X[:, np.newaxis, 2]\n",
    "\n",
    "# Split the data into training/testing sets\n",
    "diabetes_X_train = diabetes_X[:-20]\n",
    "diabetes_X_test = diabetes_X[-20:]\n",
    "\n",
    "# Split the targets into training/testing sets\n",
    "diabetes_y_train = diabetes_y[:-20]\n",
    "diabetes_y_test = diabetes_y[-20:]\n",
    "\n",
    "dim_input = diabetes_X_train.shape[1]\n",
    "dim_output = 1 #diabetes_y_train.shape[]\n"
   ]
  },
  {
   "cell_type": "markdown",
   "metadata": {},
   "source": [
    "### Passe forward"
   ]
  },
  {
   "cell_type": "code",
   "execution_count": null,
   "metadata": {},
   "outputs": [],
   "source": [
    "diabetes_y_train = diabetes_y_train.reshape(-1,1)\n",
    "couche_lineaire = Linear(diabetes_X_train.shape[1], diabetes_y_train.shape[1])\n",
    "output = couche_lineaire.forward(diabetes_X_train)\n",
    "\n",
    "\n",
    "plt.scatter(diabetes_X_train, diabetes_y_train, color=\"black\")\n",
    "plt.plot(diabetes_X_train, output, color=\"blue\", linewidth=3)\n",
    "\n",
    "plt.xticks()\n",
    "plt.yticks()\n",
    "\n",
    "plt.show()"
   ]
  },
  {
   "cell_type": "markdown",
   "metadata": {},
   "source": [
    "### Calculer le cout"
   ]
  },
  {
   "cell_type": "code",
   "execution_count": null,
   "metadata": {},
   "outputs": [],
   "source": [
    "mseloss = MSELoss()\n",
    "\n",
    "cout = mseloss.forward(diabetes_y_train, output)\n",
    "gradient_loss = mseloss.backward(diabetes_y_train, output) # le premier delta du backward\n",
    "#print(gradient_loss)\n",
    "print(f\"{cout=}\")\n"
   ]
  },
  {
   "cell_type": "markdown",
   "metadata": {},
   "source": [
    "### Mise à jour des parametres"
   ]
  },
  {
   "cell_type": "code",
   "execution_count": null,
   "metadata": {},
   "outputs": [],
   "source": [
    "couche_lineaire.backward_update_gradient(diabetes_X_train, delta=gradient_loss)\n",
    "print(couche_lineaire._gradient)"
   ]
  },
  {
   "cell_type": "code",
   "execution_count": null,
   "metadata": {},
   "outputs": [],
   "source": [
    "couche_lineaire.backward_delta(diabetes_X_train , delta=gradient_loss)"
   ]
  },
  {
   "cell_type": "code",
   "execution_count": null,
   "metadata": {},
   "outputs": [],
   "source": [
    "couche_lineaire.update_parameters(gradient_step=1e-3)"
   ]
  },
  {
   "cell_type": "code",
   "execution_count": null,
   "metadata": {},
   "outputs": [],
   "source": [
    "couche_lineaire._parameters"
   ]
  },
  {
   "cell_type": "code",
   "execution_count": null,
   "metadata": {},
   "outputs": [],
   "source": [
    "output2 = couche_lineaire.forward(diabetes_X_train)\n",
    "\n",
    "# Plot outputs\n",
    "plt.scatter(diabetes_X_train, diabetes_y_train, color=\"black\")\n",
    "plt.plot(diabetes_X_train, output2, color=\"blue\", linewidth=3)\n",
    "\n",
    "plt.xticks(())\n",
    "plt.yticks(())\n",
    "\n",
    "plt.show()"
   ]
  },
  {
   "cell_type": "markdown",
   "metadata": {},
   "source": [
    "### Nouveau cout"
   ]
  },
  {
   "cell_type": "code",
   "execution_count": null,
   "metadata": {},
   "outputs": [],
   "source": [
    "cout = mseloss.forward(diabetes_y_train, output2)\n",
    "print(f'{cout=}')"
   ]
  },
  {
   "cell_type": "code",
   "execution_count": null,
   "metadata": {},
   "outputs": [],
   "source": [
    "# Création d'un tableau de données exemple\n",
    "data = np.array([1, 2, 3, 4, 5, 6, 7, 8, 9, 10])\n",
    "\n",
    "# Division en groupes de tailles égales\n",
    "groupes = np.array_split(data, 3)  # Divise en 3 groupes de tailles égales\n",
    "\n",
    "# Affichage des groupes\n",
    "for groupe in groupes:\n",
    "    print(groupe)\n"
   ]
  },
  {
   "cell_type": "code",
   "execution_count": null,
   "metadata": {},
   "outputs": [],
   "source": [
    "# Création d'un tableau de données exemple\n",
    "data = np.array(range(23))\n",
    "\n",
    "# Taille de chaque groupe\n",
    "taille_groupe = 4\n",
    "\n",
    "# Nombre total de groupes\n",
    "nombre_groupes = len(data) // taille_groupe + (1 if len(data) % taille_groupe != 0 else 0)\n",
    "\n",
    "# Division en groupes selon la division euclidienne\n",
    "groupes = np.array_split(data, nombre_groupes)\n",
    "\n",
    "# Affichage des groupes\n",
    "for groupe in groupes:\n",
    "    print(groupe)\n"
   ]
  },
  {
   "cell_type": "markdown",
   "metadata": {},
   "source": [
    "## Tests Non-linéaire"
   ]
  },
  {
   "cell_type": "markdown",
   "metadata": {},
   "source": [
    "### Chargement et normalisation des données"
   ]
  },
  {
   "cell_type": "code",
   "execution_count": null,
   "metadata": {},
   "outputs": [],
   "source": [
    "# Load the cancer dataset\n",
    "cancer_X, cancer_y = datasets.load_breast_cancer(return_X_y=True)\n",
    "\n",
    "# Données de forme (569 exemples, 30 dimensions)\n",
    "# On récupère une seule dimensions (la N°3), newaxis est fait pour qu'on ait pas un vecteur mais une matrice 442*1\n",
    "cancer_X = cancer_X[:, :2]\n",
    "\n",
    "# Split the data into training/testing sets\n",
    "cancer_X_train = cancer_X[:-20]\n",
    "cancer_X_test = cancer_X[-20:]\n",
    "\n",
    "# Split the targets into training/testing sets\n",
    "cancer_y_train = cancer_y[:-20]\n",
    "cancer_y_test = cancer_y[-20:]\n",
    "\n",
    "dim_input = cancer_X_train.shape[1]\n",
    "dim_output = 1 # le score de chaque exemple, qui va passer par la sigmoide finale\n",
    "dim_output1 = dim_input #==2\n"
   ]
  },
  {
   "cell_type": "code",
   "execution_count": null,
   "metadata": {},
   "outputs": [],
   "source": [
    "scaler = StandardScaler()\n",
    "cancer_X_train = scaler.fit_transform(cancer_X_train)"
   ]
  },
  {
   "cell_type": "markdown",
   "metadata": {},
   "source": [
    "### Réseau à 2 couches linéaires avec une activation tangente entre les deux couches et une activation sigmoïde à la sortie."
   ]
  },
  {
   "cell_type": "code",
   "execution_count": null,
   "metadata": {},
   "outputs": [],
   "source": [
    "couche_lineaire_1 = Linear(dim_input, dim_output1)\n",
    "act_tanh = Tanh()\n",
    "couche_lineaire_2 = Linear(dim_output1, dim_output)\n",
    "act_sig = Sigmoide()\n",
    "mse_loss = MSELoss()"
   ]
  },
  {
   "cell_type": "markdown",
   "metadata": {},
   "source": [
    "### Passe forward"
   ]
  },
  {
   "cell_type": "code",
   "execution_count": null,
   "metadata": {},
   "outputs": [],
   "source": [
    "output_1 = couche_lineaire_1.forward(cancer_X_train)\n",
    "act_1 = act_tanh.forward(output_1)\n",
    "output_2 = couche_lineaire_2.forward(act_1)\n",
    "act_2 = act_sig.forward(output_2)"
   ]
  },
  {
   "cell_type": "code",
   "execution_count": null,
   "metadata": {},
   "outputs": [],
   "source": [
    "cout = mse_loss.forward(cancer_y_train, act_2)\n",
    "cout"
   ]
  },
  {
   "cell_type": "markdown",
   "metadata": {},
   "source": [
    "### Pass backward"
   ]
  },
  {
   "cell_type": "code",
   "execution_count": null,
   "metadata": {},
   "outputs": [],
   "source": [
    "delta_mse = mse_loss.backward(cancer_y_train, act_2)\n",
    "\n",
    "delta_act_2 = act_sig.backward_delta(output_2, delta_mse)\n",
    "delta_lin_2 = couche_lineaire_2.backward_delta(act_1, delta_act_2)\n",
    "delta_act_1 = act_tanh.backward_delta(output_1, delta_lin_2)\n",
    "delta_lin_1 = couche_lineaire_1.backward_delta(cancer_X_train, delta_act_1)\n",
    "\n",
    "couche_lineaire_2.backward_update_gradient(act_1, delta_act_2)\n",
    "couche_lineaire_1.backward_update_gradient(cancer_X_train, delta_act_1)\n"
   ]
  },
  {
   "cell_type": "code",
   "execution_count": null,
   "metadata": {},
   "outputs": [],
   "source": [
    "couche_lineaire_1.update_parameters(gradient_step=10)\n",
    "couche_lineaire_2.update_parameters(gradient_step=10)"
   ]
  },
  {
   "cell_type": "code",
   "execution_count": null,
   "metadata": {},
   "outputs": [],
   "source": [
    "output_1 = couche_lineaire_1.forward(cancer_X_train)\n",
    "act_1 = act_tanh.forward(output_1)\n",
    "output_2 = couche_lineaire_2.forward(act_1)\n",
    "act_2 = act_sig.forward(output_2)"
   ]
  },
  {
   "cell_type": "code",
   "execution_count": null,
   "metadata": {},
   "outputs": [],
   "source": [
    "cout = mse_loss.forward(cancer_y_train, act_2)\n",
    "cout"
   ]
  },
  {
   "cell_type": "markdown",
   "metadata": {},
   "source": [
    "### Boucle d'apprentissage"
   ]
  },
  {
   "cell_type": "code",
   "execution_count": null,
   "metadata": {},
   "outputs": [],
   "source": [
    "i = list(range(101))\n",
    "plt.plot(i, couts)"
   ]
  },
  {
   "cell_type": "code",
   "execution_count": null,
   "metadata": {},
   "outputs": [],
   "source": [
    "predict = np.round(act_2)\n",
    "predict"
   ]
  },
  {
   "cell_type": "code",
   "execution_count": null,
   "metadata": {},
   "outputs": [],
   "source": [
    "print(accuracy_score(cancer_y_train, predict))"
   ]
  },
  {
   "cell_type": "markdown",
   "metadata": {},
   "source": [
    "### Tests avec eps=20"
   ]
  },
  {
   "cell_type": "code",
   "execution_count": null,
   "metadata": {},
   "outputs": [],
   "source": [
    "## Création du réseau\n",
    "couche_lineaire_1 = Linear(dim_input, dim_output1)\n",
    "act_tanh = Tanh()\n",
    "couche_lineaire_2 = Linear(dim_input, dim_output)\n",
    "act_sig = Sigmoide()\n",
    "mse_loss = MSELoss()\n",
    "\n",
    "# Passe forward initiale\n",
    "output_1 = couche_lineaire_1.forward(cancer_X_train)\n",
    "act_1 = act_tanh.forward(output_1)\n",
    "output_2 = couche_lineaire_2.forward(act_1)\n",
    "act_2 = act_sig.forward(output_2)\n",
    "\n",
    "couts = []\n",
    "couts.append(mse_loss.forward(cancer_y_train, act_2))\n",
    "nb_iter = 100\n",
    "\n",
    "for i in range(nb_iter):\n",
    "    # passe backward\n",
    "    ## Calcul des deltas\n",
    "    delta_1 = mse_loss.backward(cancer_y_train, act_2)\n",
    "    delta_2 = act_sig.backward_delta(output_2, delta_1)\n",
    "    delta_3 = couche_lineaire_2.backward_delta(act_1, delta_2)\n",
    "    delta_4 = act_tanh.backward_delta(output_1, delta_3)\n",
    "    delta_5 = couche_lineaire_1.backward_delta(cancer_X_train, delta_4)\n",
    "    \n",
    "    ## MàJ des gradients\n",
    "    couche_lineaire_2.backward_update_gradient(act_1, delta_2)\n",
    "    couche_lineaire_1.backward_update_gradient(cancer_X_train, delta_4)\n",
    "\n",
    "    ## MàJ des paramètres\n",
    "    couche_lineaire_1.update_parameters(gradient_step=20)\n",
    "    couche_lineaire_2.update_parameters(gradient_step=20)\n",
    "    \n",
    "    #Passe forward\n",
    "    output_1 = couche_lineaire_1.forward(cancer_X_train)\n",
    "    act_1 = act_tanh.forward(output_1)\n",
    "    output_2 = couche_lineaire_2.forward(act_1)\n",
    "    act_2 = act_sig.forward(output_2)\n",
    "\n",
    "    couts.append(mse_loss.forward(cancer_y_train, act_2))\n",
    "    \n",
    "    \n",
    "    \n"
   ]
  },
  {
   "cell_type": "code",
   "execution_count": null,
   "metadata": {},
   "outputs": [],
   "source": [
    "i = list(range(101))\n",
    "plt.plot(i, couts)"
   ]
  },
  {
   "cell_type": "code",
   "execution_count": null,
   "metadata": {},
   "outputs": [],
   "source": [
    "predict = np.round(act_2)"
   ]
  },
  {
   "cell_type": "code",
   "execution_count": null,
   "metadata": {},
   "outputs": [],
   "source": [
    "print(accuracy_score(cancer_y_train, predict))"
   ]
  },
  {
   "cell_type": "markdown",
   "metadata": {},
   "source": [
    "### tests dataset test"
   ]
  },
  {
   "cell_type": "code",
   "execution_count": null,
   "metadata": {},
   "outputs": [],
   "source": [
    "from NonLineaire.Reseau2Couches import Reseau2Couches"
   ]
  },
  {
   "cell_type": "code",
   "execution_count": null,
   "metadata": {},
   "outputs": [],
   "source": [
    "np.random.seed(0)"
   ]
  },
  {
   "cell_type": "code",
   "execution_count": null,
   "metadata": {},
   "outputs": [],
   "source": [
    "nn = Reseau2Couches(dim_input=2, dim_hidden=2)\n",
    "nn.fit(cancer_X_train, cancer_y_train, nb_iter=10, learning_rate=20)\n",
    "print(nn.accuracy_train)\n",
    "\n",
    "y_hat = nn.predict(cancer_X_test)\n",
    "nn.accuracy(cancer_y_test, y_hat)\n"
   ]
  },
  {
   "cell_type": "code",
   "execution_count": null,
   "metadata": {},
   "outputs": [],
   "source": [
    "nn.plot_couts()"
   ]
  },
  {
   "cell_type": "code",
   "execution_count": null,
   "metadata": {},
   "outputs": [],
   "source": [
    "nn2 = Reseau2Couches(dim_input=2, dim_hidden=2)\n",
    "nn2.fit(cancer_X_train, cancer_y_train, nb_iter=20, learning_rate=30)\n",
    "print(nn2.accuracy_train)\n",
    "\n",
    "y_hat = nn2.predict(cancer_X_test)\n",
    "nn2.accuracy(cancer_y_test, y_hat)\n"
   ]
  },
  {
   "cell_type": "markdown",
   "metadata": {},
   "source": [
    "# Sequentiel"
   ]
  },
  {
   "cell_type": "code",
   "execution_count": 4,
   "metadata": {},
   "outputs": [
    {
     "ename": "NameError",
     "evalue": "name 'dim_output1' is not defined",
     "output_type": "error",
     "traceback": [
      "\u001b[1;31m---------------------------------------------------------------------------\u001b[0m",
      "\u001b[1;31mNameError\u001b[0m                                 Traceback (most recent call last)",
      "Cell \u001b[1;32mIn[4], line 2\u001b[0m\n\u001b[0;32m      1\u001b[0m mse_loss \u001b[38;5;241m=\u001b[39m MSELoss()\n\u001b[1;32m----> 2\u001b[0m net \u001b[38;5;241m=\u001b[39m Sequentiel(Linear(dim_input, \u001b[43mdim_output1\u001b[49m), Tanh(), Linear(dim_output1, dim_output), Sigmoide())\n",
      "\u001b[1;31mNameError\u001b[0m: name 'dim_output1' is not defined"
     ]
    }
   ],
   "source": [
    "mse_loss = MSELoss()\n",
    "net = Sequentiel(Linear(dim_input, dim_output1), Tanh(), Linear(dim_output1, dim_output), Sigmoide())"
   ]
  },
  {
   "cell_type": "code",
   "execution_count": null,
   "metadata": {},
   "outputs": [],
   "source": [
    "nb_elements_reduit = 100\n",
    "cancer_X_train_reduit = cancer_X_train[:nb_elements_reduit]\n",
    "cancer_y_train_reduit = cancer_y_train[:nb_elements_reduit]"
   ]
  },
  {
   "cell_type": "code",
   "execution_count": null,
   "metadata": {},
   "outputs": [],
   "source": [
    "import numpy as np\n",
    "from Encapsulation.Optim import Optim\n",
    "\n",
    "def SGD(net, X, Y, taille_batch, loss, nb_iter=100, eps=1e-3, shuffle=False):\n",
    "    \"\"\"_summary_\n",
    "\n",
    "    Args:\n",
    "        net (_type_): _description_\n",
    "        X (np.ndarray): L'ensemble des exemples de train\n",
    "        Y (np.ndarray): L'ensemble des labels de train\n",
    "        taille_batch (int): La taille de chaque batch\n",
    "        loss (Function): La fonction de cout\n",
    "        nb_iter (int, optional): Nombre d'itérations. Defaults to 100.\n",
    "        eps (float, optional): Pas de gradient. Defaults to 1e-3.\n",
    "        shuffle (bool, optional): Si permuter les exemples ou non. Defaults to False.\n",
    "\n",
    "    Returns:\n",
    "        optim._couts : La liste des couts calculés par l'optimiseur\n",
    "        net : Le réseau de neurones entraîné\n",
    "    \"\"\"\n",
    "    ## Decouper X et Y en batchs\n",
    "    \n",
    "    if shuffle:\n",
    "        X_Y = np.random.shuffle(X_Y)\n",
    "    \n",
    "    #X_Y = list(zip(X,Y))\n",
    "    Y = np.reshape(Y, (-1, 1))\n",
    "    X_Y = np.hstack((X, Y))\n",
    "    batches = np.array_split(np.array(X_Y), taille_batch)\n",
    "    # Ajouter les epochs\n",
    "    for batch in batches:\n",
    "        optim = Optim(net, loss, eps)\n",
    "        batch_x = [b[:-1] for b in batch]\n",
    "        batch_y = [b[-1] for b in batch]\n",
    "        \n",
    "        optim.step(batch_x, batch_y)\n",
    "        \n",
    "    return net, optim._couts\n",
    "    "
   ]
  },
  {
   "cell_type": "code",
   "execution_count": 5,
   "metadata": {},
   "outputs": [
    {
     "ename": "NameError",
     "evalue": "name 'net' is not defined",
     "output_type": "error",
     "traceback": [
      "\u001b[1;31m---------------------------------------------------------------------------\u001b[0m",
      "\u001b[1;31mNameError\u001b[0m                                 Traceback (most recent call last)",
      "Cell \u001b[1;32mIn[5], line 1\u001b[0m\n\u001b[1;32m----> 1\u001b[0m SGD(\u001b[43mnet\u001b[49m, cancer_X_train_reduit, cancer_y_train_reduit, taille_batch\u001b[38;5;241m=\u001b[39m\u001b[38;5;241m20\u001b[39m, loss\u001b[38;5;241m=\u001b[39mmse_loss)\n",
      "\u001b[1;31mNameError\u001b[0m: name 'net' is not defined"
     ]
    }
   ],
   "source": [
    "SGD(net, cancer_X_train_reduit, cancer_y_train_reduit, taille_batch=20, loss=mse_loss)"
   ]
  },
  {
   "cell_type": "markdown",
   "metadata": {},
   "source": [
    "# Tests sequentiel"
   ]
  },
  {
   "cell_type": "code",
   "execution_count": null,
   "metadata": {},
   "outputs": [],
   "source": [
    "import mltools as tl"
   ]
  },
  {
   "cell_type": "code",
   "execution_count": null,
   "metadata": {},
   "outputs": [],
   "source": [
    "size = 1500\n",
    "\n",
    "datax, datay = tl.gen_arti(centerx=1, centery=1, sigma=0.1, nbex=size, data_type=2, epsilon=0.1)\n",
    "testx, testy = tl.gen_arti(centerx=1, centery=1, sigma=0.1, nbex=size, data_type=2, epsilon=0.1)\n",
    "\n",
    "\n",
    "datay = np.where(datay==-1,0,1).reshape((-1,1))\n",
    "testy = np.where(testy==-1,0,1).reshape((-1,1))\n",
    "\n",
    "\n",
    "\n",
    "nh = 80\n",
    "nh2 = 60\n",
    "\n",
    "def pred(x):\n",
    "    return np.where(x >= 0.5,1, 0)\n",
    "\n",
    "\n",
    "loss_mse = MSELoss()\n",
    "couche_lin = Linear( datax.shape[1], nh)\n",
    "couche_lin2 = Linear(nh, nh2)\n",
    "couche_lin3 = Linear(nh2, 1,)\n",
    "\n",
    "sig = Sigmoide()\n",
    "tan = Tanh()\n",
    "\n",
    "net = Sequentiel(*[couche_lin,tan,couche_lin2,tan,couche_lin3,sig])\n",
    "\n",
    "opt = Optim(net,loss_mse,eps=1e-4)\n",
    "sizeba = 100\n",
    "mean, std = SGD(net, datax, datay, sizeba, loss_mse, 100)\n",
    "\n",
    "print(\"accuracy : \",opt.score(testx,testy))\n",
    "\n",
    "tl.plot_frontiere(testx, opt._net.predict, step=100)\n",
    "tl.plot_data(testx, testy.reshape(-1))\n",
    "plt.figure()\n",
    "plt.plot(mean,'black')\n",
    "plt.plot(std,'blue')\n",
    "plt.legend(('Moyenne', 'Variance'))\n",
    "plt.show()"
   ]
  }
 ],
 "metadata": {
  "kernelspec": {
   "display_name": "workspace11",
   "language": "python",
   "name": "python3"
  },
  "language_info": {
   "codemirror_mode": {
    "name": "ipython",
    "version": 3
   },
   "file_extension": ".py",
   "mimetype": "text/x-python",
   "name": "python",
   "nbconvert_exporter": "python",
   "pygments_lexer": "ipython3",
   "version": "3.11.7"
  }
 },
 "nbformat": 4,
 "nbformat_minor": 2
}
